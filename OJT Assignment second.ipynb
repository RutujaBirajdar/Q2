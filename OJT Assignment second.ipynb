{
 "cells": [
  {
   "cell_type": "markdown",
   "id": "95a76bc3",
   "metadata": {},
   "source": [
    "Name :Rutuja Dayanand Birajdar\n",
    "\n",
    "Roll no: 23092008\n",
    "\n",
    "IMCA 1st\n",
    "\n"
   ]
  },
  {
   "cell_type": "markdown",
   "id": "ee330ead",
   "metadata": {},
   "source": [
    "# Q2. Row Echelon Form:\n"
   ]
  },
  {
   "cell_type": "code",
   "execution_count": 4,
   "id": "e2cf97b5",
   "metadata": {},
   "outputs": [
    {
     "name": "stdout",
     "output_type": "stream",
     "text": [
      "Original Matrix A:\n",
      "[[8 8 6 2 8]\n",
      " [7 2 1 5 4]\n",
      " [4 5 7 3 6]\n",
      " [4 3 7 6 1]\n",
      " [3 5 8 4 6]]\n",
      "Row Echelon Form of Matrix A:\n",
      "[[ 1.          1.          0.75        0.25        1.        ]\n",
      " [-0.          1.          0.85       -0.65        0.6       ]\n",
      " [ 0.          0.          1.          0.89690722 -0.49484536]\n",
      " [ 0.          0.          0.          1.          4.14606742]\n",
      " [ 0.          0.          0.          0.          1.        ]]\n"
     ]
    }
   ],
   "source": [
    "\n",
    "import numpy as np\n",
    "\n",
    "def ref(matrix):\n",
    "    mat = matrix.copy().astype(float)\n",
    "    rows, cols = mat.shape\n",
    "\n",
    "    row_idx = 0\n",
    "    for col_idx in range(cols):\n",
    "        if row_idx >= rows:\n",
    "            break\n",
    "\n",
    "        max_row = np.argmax(np.abs(mat[row_idx:, col_idx])) + row_idx\n",
    "        \n",
    "        if mat[max_row, col_idx] == 0:\n",
    "            continue\n",
    "\n",
    "        mat[[row_idx, max_row]] = mat[[max_row, row_idx]]\n",
    "        mat[row_idx] = mat[row_idx] / mat[row_idx, col_idx]\n",
    "\n",
    "        for r in range(row_idx + 1, rows):\n",
    "            mat[r] = mat[r] - mat[r, col_idx] * mat[row_idx]\n",
    "\n",
    "        row_idx += 1\n",
    "\n",
    "    return mat\n",
    "\n"
   ]
  },
  {
   "cell_type": "code",
   "execution_count": 8,
   "id": "cde8c775",
   "metadata": {},
   "outputs": [
    {
     "name": "stdout",
     "output_type": "stream",
     "text": [
      "Original Matrix A:\n",
      "[[3 4 1 9 5]\n",
      " [8 3 8 0 5]\n",
      " [1 3 9 2 2]\n",
      " [6 8 9 3 4]\n",
      " [5 5 7 9 2]]\n"
     ]
    }
   ],
   "source": [
    "# Set the random seed\n",
    "np.random.seed(8)\n",
    "\n",
    "# Generate a 5x5 matrix with random integers between 0 and 9\n",
    "A = np.random.randint(0, 10, (5, 5))\n",
    "print(\"Original Matrix A:\")\n",
    "print(A)\n",
    "\n"
   ]
  },
  {
   "cell_type": "code",
   "execution_count": 10,
   "id": "898cbf14",
   "metadata": {},
   "outputs": [
    {
     "name": "stdout",
     "output_type": "stream",
     "text": [
      "Row Echelon Form of Matrix A:\n",
      "[[ 1.          0.375       1.          0.          0.625     ]\n",
      " [ 0.          1.          0.52173913  0.52173913  0.04347826]\n",
      " [ 0.          0.          1.          0.09508197  0.19016393]\n",
      " [ 0.          0.          0.          1.          0.46797823]\n",
      " [-0.         -0.         -0.         -0.          1.        ]]\n"
     ]
    }
   ],
   "source": [
    "# Calculate the Row Echelon Form of the matrix A\n",
    "REF_A = ref(A)\n",
    "print(\"Row Echelon Form of Matrix A:\")\n",
    "print(REF_A)"
   ]
  },
  {
   "cell_type": "code",
   "execution_count": null,
   "id": "93f9ab12",
   "metadata": {},
   "outputs": [],
   "source": []
  }
 ],
 "metadata": {
  "kernelspec": {
   "display_name": "Python 3 (ipykernel)",
   "language": "python",
   "name": "python3"
  },
  "language_info": {
   "codemirror_mode": {
    "name": "ipython",
    "version": 3
   },
   "file_extension": ".py",
   "mimetype": "text/x-python",
   "name": "python",
   "nbconvert_exporter": "python",
   "pygments_lexer": "ipython3",
   "version": "3.11.5"
  }
 },
 "nbformat": 4,
 "nbformat_minor": 5
}
